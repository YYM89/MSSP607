{
  "nbformat": 4,
  "nbformat_minor": 0,
  "metadata": {
    "colab": {
      "provenance": [],
      "authorship_tag": "ABX9TyMIqFAgv5wSBMI53XpQrn8o",
      "include_colab_link": true
    },
    "kernelspec": {
      "name": "python3",
      "display_name": "Python 3"
    },
    "language_info": {
      "name": "python"
    }
  },
  "cells": [
    {
      "cell_type": "markdown",
      "metadata": {
        "id": "view-in-github",
        "colab_type": "text"
      },
      "source": [
        "<a href=\"https://colab.research.google.com/github/YYM89/MSSP607/blob/main/week2_assignment.ipynb\" target=\"_parent\"><img src=\"https://colab.research.google.com/assets/colab-badge.svg\" alt=\"Open In Colab\"/></a>"
      ]
    },
    {
      "cell_type": "code",
      "execution_count": null,
      "metadata": {
        "colab": {
          "base_uri": "https://localhost:8080/"
        },
        "id": "WRtDuFXUQ7RS",
        "outputId": "b214e844-bb7f-46d3-d960-477be9e54255"
      },
      "outputs": [
        {
          "output_type": "stream",
          "name": "stdout",
          "text": [
            "[2, 4, 6, 8, 10]\n",
            "6\n"
          ]
        }
      ],
      "source": [
        "spam = [2,4,6,8,10]\n",
        "print(spam)\n",
        "hello =spam[2]\n",
        "print(hello)"
      ]
    },
    {
      "cell_type": "code",
      "source": [
        "letters = ['a','b','c','d']\n",
        "print([int(int('3'*2)//11)])\n",
        "letters[-1]"
      ],
      "metadata": {
        "colab": {
          "base_uri": "https://localhost:8080/",
          "height": 53
        },
        "id": "vwB1LYBHSRat",
        "outputId": "89b33c81-523b-4df2-9bff-3c1f5aec8c09"
      },
      "execution_count": null,
      "outputs": [
        {
          "output_type": "stream",
          "name": "stdout",
          "text": [
            "[3]\n"
          ]
        },
        {
          "output_type": "execute_result",
          "data": {
            "text/plain": [
              "'d'"
            ],
            "application/vnd.google.colaboratory.intrinsic+json": {
              "type": "string"
            }
          },
          "metadata": {},
          "execution_count": 4
        }
      ]
    },
    {
      "cell_type": "code",
      "source": [
        "letters[:2]"
      ],
      "metadata": {
        "colab": {
          "base_uri": "https://localhost:8080/"
        },
        "id": "cnY4kZXca92P",
        "outputId": "658576f9-6ff0-4287-a14a-3106f09a6fd4"
      },
      "execution_count": null,
      "outputs": [
        {
          "output_type": "execute_result",
          "data": {
            "text/plain": [
              "['a', 'b']"
            ]
          },
          "metadata": {},
          "execution_count": 5
        }
      ]
    },
    {
      "cell_type": "markdown",
      "source": [
        "\n",
        "\n",
        "*   '3'*2 - string '33'\n",
        "*   int('33') - interger 33\n",
        "*   33\\\\11 = 3\n",
        "*   letters[-1] - the end of the list\n",
        "*   letters[:2] - the start of the begining and goes up to index 2\n",
        "\n",
        "\n",
        "\n",
        "\n"
      ],
      "metadata": {
        "id": "EI1yXIzTZH8n"
      }
    },
    {
      "cell_type": "code",
      "source": [
        "# create a list\n",
        "my_list = ['Sylvia', 'Helena', 'Maggie','Cecilia']\n",
        "print(my_list)\n",
        "print('Type: ', type(my_list))\n",
        "\n",
        "# convert list to tuple\n",
        "tuple_list = tuple(my_list)\n",
        "print('convert to tuple',tuple_list)\n",
        "print('Type: ', type(tuple_list))\n",
        "\n",
        "# return to list\n",
        "convert_back_list = list(tuple_list)\n",
        "print('convert to list',convert_back_list)\n",
        "print('Type: ', type(convert_back_list))"
      ],
      "metadata": {
        "colab": {
          "base_uri": "https://localhost:8080/"
        },
        "id": "bLIkN7EPitfE",
        "outputId": "a5d9755e-fcbb-4e08-c5f4-e734092f7015"
      },
      "execution_count": null,
      "outputs": [
        {
          "output_type": "stream",
          "name": "stdout",
          "text": [
            "['Sylvia', 'Helena', 'Maggie', 'Cecilia']\n",
            "Type:  <class 'list'>\n",
            "convert to tuple ('Sylvia', 'Helena', 'Maggie', 'Cecilia')\n",
            "Type:  <class 'tuple'>\n",
            "convert to list ['Sylvia', 'Helena', 'Maggie', 'Cecilia']\n",
            "Type:  <class 'list'>\n"
          ]
        }
      ]
    },
    {
      "cell_type": "code",
      "source": [
        "def comma_and(items):\n",
        "  if not items:\n",
        "    return \"\"\n",
        "  elif len(items) == 1:\n",
        "    return items[0]\n",
        "  else:\n",
        "    return \", \".join(items[:-1]) + \", and \" + items[-1]\n",
        "\n",
        "spam = ['apples', 'bananas', 'tofu', 'cats']\n",
        "result = comma_and(spam)\n",
        "print(\"Original list:\", spam)\n",
        "print(\"Result:\", result)\n",
        "print()"
      ],
      "metadata": {
        "colab": {
          "base_uri": "https://localhost:8080/"
        },
        "id": "7pLk0dE6lwR3",
        "outputId": "e73f4d9d-4a1b-48b6-f408-6a0f436073f5"
      },
      "execution_count": null,
      "outputs": [
        {
          "output_type": "stream",
          "name": "stdout",
          "text": [
            "Original list: ['apples', 'bananas', 'tofu', 'cats']\n",
            "Result: apples, bananas, tofu, and cats\n",
            "\n"
          ]
        }
      ]
    }
  ]
}