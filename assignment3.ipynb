{
  "nbformat": 4,
  "nbformat_minor": 0,
  "metadata": {
    "colab": {
      "provenance": [],
      "authorship_tag": "ABX9TyPFHOo6yqz7lnEUQLjHG+RC",
      "include_colab_link": true
    },
    "kernelspec": {
      "name": "python3",
      "display_name": "Python 3"
    },
    "language_info": {
      "name": "python"
    }
  },
  "cells": [
    {
      "cell_type": "markdown",
      "metadata": {
        "id": "view-in-github",
        "colab_type": "text"
      },
      "source": [
        "<a href=\"https://colab.research.google.com/github/YYM89/MSSP607/blob/main/assignment3.ipynb\" target=\"_parent\"><img src=\"https://colab.research.google.com/assets/colab-badge.svg\" alt=\"Open In Colab\"/></a>"
      ]
    },
    {
      "cell_type": "markdown",
      "source": [
        "### Answer the following questions:\n",
        "\n",
        "a. When does the code in a function execute: when the function is defined or called?\n",
        "\n",
        "​\tCalled.\n",
        "\n",
        "​\tWhen defining a function, it only stores, to run it, we should use() to call it."
      ],
      "metadata": {
        "id": "8q-v-BsEQoNN"
      }
    },
    {
      "cell_type": "markdown",
      "source": [
        "b. How many global scopes are there in a Python program? How many local scopes?\n",
        "\n",
        "​\tThere is only one global scopes and there could be many local scopes. There will be a new scope every time we call a new function."
      ],
      "metadata": {
        "id": "jPd-sH0SMyqv"
      }
    },
    {
      "cell_type": "markdown",
      "source": [
        "c. What happens to variables in a local scope when the function call returns?\n",
        "\n",
        "​\tThey will be destroyed."
      ],
      "metadata": {
        "id": "uxp5ohiKQ7WZ"
      }
    },
    {
      "cell_type": "markdown",
      "source": [
        "d. How can you prevent a program from crashing when it gets an error?\n",
        "\n",
        "​\ttry/except"
      ],
      "metadata": {
        "id": "K5ezjezyQ7lS"
      }
    },
    {
      "cell_type": "markdown",
      "source": [
        "### Practice Question:\n",
        "\n",
        "1.  What keys can you press if your Python program is stuck in an infinite loop?\n",
        "\n",
        "  ctrl + C"
      ],
      "metadata": {
        "id": "zMiOeNlfRefn"
      }
    },
    {
      "cell_type": "markdown",
      "source": [
        "2.  What is the difference between break and continue?\n",
        "\n",
        "  break: completely exits\n",
        "  \n",
        "  continue: skips the rest of current iteration and junps to the next loop"
      ],
      "metadata": {
        "id": "lFGidDRiR6b-"
      }
    },
    {
      "cell_type": "markdown",
      "source": [
        "3. What is the difference between range(10), range(0, 10), and range(0, 10, 1) in a for loop?"
      ],
      "metadata": {
        "id": "2sMpuGw6S6i2"
      }
    },
    {
      "cell_type": "code",
      "source": [
        "#start defaults to 0, step defaults to 1\n",
        "for i in range(10):\n",
        "  print(i)"
      ],
      "metadata": {
        "colab": {
          "base_uri": "https://localhost:8080/"
        },
        "id": "0lBQzdukSSTo",
        "outputId": "ccb0ba7a-2e82-475a-b94a-57cf80dabf15"
      },
      "execution_count": 3,
      "outputs": [
        {
          "output_type": "stream",
          "name": "stdout",
          "text": [
            "0\n",
            "1\n",
            "2\n",
            "3\n",
            "4\n",
            "5\n",
            "6\n",
            "7\n",
            "8\n",
            "9\n"
          ]
        }
      ]
    },
    {
      "cell_type": "code",
      "source": [
        "#sets start to 0, step defaults to 1\n",
        "for i in range(0,10):\n",
        "  print(i)"
      ],
      "metadata": {
        "colab": {
          "base_uri": "https://localhost:8080/"
        },
        "id": "UiQWtgicTk4n",
        "outputId": "a9206192-8167-4c73-9ac0-d7946638d1d3"
      },
      "execution_count": 4,
      "outputs": [
        {
          "output_type": "stream",
          "name": "stdout",
          "text": [
            "0\n",
            "1\n",
            "2\n",
            "3\n",
            "4\n",
            "5\n",
            "6\n",
            "7\n",
            "8\n",
            "9\n"
          ]
        }
      ]
    },
    {
      "cell_type": "code",
      "source": [
        "#sets start to 0, stop to 10, step to 1\n",
        "for i in range(0,10,1):\n",
        "  print(i)"
      ],
      "metadata": {
        "colab": {
          "base_uri": "https://localhost:8080/"
        },
        "id": "ZsDdzOZXTveM",
        "outputId": "2548e279-ec42-40a0-b702-a07a0adcc9ae"
      },
      "execution_count": 5,
      "outputs": [
        {
          "output_type": "stream",
          "name": "stdout",
          "text": [
            "0\n",
            "1\n",
            "2\n",
            "3\n",
            "4\n",
            "5\n",
            "6\n",
            "7\n",
            "8\n",
            "9\n"
          ]
        }
      ]
    },
    {
      "cell_type": "markdown",
      "source": [
        " 4.  Write a short program that prints the numbers 1 to 10 using a for loop. Then, write an equivalent program that prints the numbers 1 to 10 using a while loop."
      ],
      "metadata": {
        "id": "-JGT-8sxUEi2"
      }
    },
    {
      "cell_type": "code",
      "source": [
        "#prints the numbers 1 to 10 using a for loop\n",
        "for i in range(1,11):\n",
        "  print(i)"
      ],
      "metadata": {
        "colab": {
          "base_uri": "https://localhost:8080/"
        },
        "id": "sbhLjua0UH0Z",
        "outputId": "11c6fb3a-36aa-4589-9377-5b9d0d9326ee"
      },
      "execution_count": 8,
      "outputs": [
        {
          "output_type": "stream",
          "name": "stdout",
          "text": [
            "1\n",
            "2\n",
            "3\n",
            "4\n",
            "5\n",
            "6\n",
            "7\n",
            "8\n",
            "9\n",
            "10\n"
          ]
        }
      ]
    },
    {
      "cell_type": "code",
      "source": [
        "#prints the numbers 1 to 10 using a while loop\n",
        "i = 1\n",
        "while i <= 10:\n",
        "  print(i)\n",
        "  i += 1"
      ],
      "metadata": {
        "colab": {
          "base_uri": "https://localhost:8080/"
        },
        "id": "XwuXaGwRUW-G",
        "outputId": "d04e1b51-0a93-403f-ab88-f74b6f58a7f0"
      },
      "execution_count": 7,
      "outputs": [
        {
          "output_type": "stream",
          "name": "stdout",
          "text": [
            "1\n",
            "2\n",
            "3\n",
            "4\n",
            "5\n",
            "6\n",
            "7\n",
            "8\n",
            "9\n",
            "10\n"
          ]
        }
      ]
    },
    {
      "cell_type": "markdown",
      "source": [
        "5.  If you had a function named bacon() inside a module named spam, how would you call it after importing spam?"
      ],
      "metadata": {
        "id": "NIgVBzZvU-YV"
      }
    },
    {
      "cell_type": "code",
      "source": [
        "import spam\n",
        "spam.bacon()"
      ],
      "metadata": {
        "id": "gEZKMfhPU-8g"
      },
      "execution_count": null,
      "outputs": []
    }
  ]
}