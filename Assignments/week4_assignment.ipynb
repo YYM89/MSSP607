{
  "nbformat": 4,
  "nbformat_minor": 0,
  "metadata": {
    "colab": {
      "provenance": [],
      "authorship_tag": "ABX9TyM/TuleWO1sq6kerFxLo3IU",
      "include_colab_link": true
    },
    "kernelspec": {
      "name": "python3",
      "display_name": "Python 3"
    },
    "language_info": {
      "name": "python"
    }
  },
  "cells": [
    {
      "cell_type": "markdown",
      "metadata": {
        "id": "view-in-github",
        "colab_type": "text"
      },
      "source": [
        "<a href=\"https://colab.research.google.com/github/YYM89/MSSP607/blob/main/week4_assignment.ipynb\" target=\"_parent\"><img src=\"https://colab.research.google.com/assets/colab-badge.svg\" alt=\"Open In Colab\"/></a>"
      ]
    },
    {
      "cell_type": "code",
      "execution_count": 6,
      "metadata": {
        "id": "nvvGQ2FAHA8X",
        "colab": {
          "base_uri": "https://localhost:8080/"
        },
        "outputId": "22ab0977-e303-4428-db3d-79defdb17cc2"
      },
      "outputs": [
        {
          "output_type": "stream",
          "name": "stdout",
          "text": [
            "Drive already mounted at /content/drive; to attempt to forcibly remount, call drive.mount(\"/content/drive\", force_remount=True).\n"
          ]
        }
      ],
      "source": [
        "from google.colab import drive\n",
        "drive.mount('/content/drive')"
      ]
    },
    {
      "cell_type": "code",
      "source": [
        "import os\n",
        "import pandas as pd\n",
        "import numpy as np\n",
        "if os.path.exists('/content/drive'):\n",
        "    print(\"Drive mounted successfully\")\n",
        "file_path = '/content/drive/MyDrive/MSSP607/Data/parsed.csv'\n",
        "df = pd.read_csv(file_path)\n",
        "print(\"Data imported successfully!\")"
      ],
      "metadata": {
        "colab": {
          "base_uri": "https://localhost:8080/"
        },
        "id": "PglgcTwRK6aB",
        "outputId": "865dfe74-ac69-4c98-c2a9-4f3d2f392955"
      },
      "execution_count": 7,
      "outputs": [
        {
          "output_type": "stream",
          "name": "stdout",
          "text": [
            "Drive mounted successfully\n",
            "Data imported successfully!\n"
          ]
        }
      ]
    },
    {
      "cell_type": "code",
      "source": [
        "#95th percentile of earthquake magnitude in Japan using magType of 'mb'\n",
        "japan_mb = df[(df['parsed_place'] == 'Japan') & (df['magType'] == 'mb')]\n",
        "percentile_95_japan = japan_mb['mag'].quantile(0.95)\n",
        "print(f\"95th percentile of earthquake magnitude in Japan (magType 'mb'): {percentile_95_japan}\")"
      ],
      "metadata": {
        "colab": {
          "base_uri": "https://localhost:8080/"
        },
        "id": "izjKjh7hK8mN",
        "outputId": "3b3737f4-0e6c-49c4-cf35-ef678998c867"
      },
      "execution_count": 9,
      "outputs": [
        {
          "output_type": "stream",
          "name": "stdout",
          "text": [
            "95th percentile of earthquake magnitude in Japan (magType 'mb'): 4.9\n"
          ]
        }
      ]
    },
    {
      "cell_type": "code",
      "source": [
        "#the percentage of earthquakes in Indonesia that were coupled with tsunamis\n",
        "indonesia_earthquakes = df[df['parsed_place'] == 'Indonesia']\n",
        "tsunami_in_indonesia = indonesia_earthquakes['tsunami'].sum()\n",
        "percentage_tsunami_indonesia = (tsunami_in_indonesia / len(indonesia_earthquakes)) * 100\n",
        "print(f\"b. Percentage of earthquakes in Indonesia coupled with tsunamis: {percentage_tsunami_indonesia:.2f}%\")\n"
      ],
      "metadata": {
        "colab": {
          "base_uri": "https://localhost:8080/"
        },
        "id": "uaodG2_tYGNj",
        "outputId": "516e457a-59bf-4b38-f310-9d520a05e1fc"
      },
      "execution_count": 10,
      "outputs": [
        {
          "output_type": "stream",
          "name": "stdout",
          "text": [
            "b. Percentage of earthquakes in Indonesia coupled with tsunamis: 23.13%\n"
          ]
        }
      ]
    },
    {
      "cell_type": "code",
      "source": [
        "#summary statistics for earthquakes in Nevada\n",
        "nevada_earthquakes = df[df['parsed_place'] == 'Nevada']\n",
        "summary_stats = nevada_earthquakes['mag'].describe()\n",
        "print(\"Summary statistics for earthquakes in Nevada:\")\n",
        "print(summary_stats)"
      ],
      "metadata": {
        "colab": {
          "base_uri": "https://localhost:8080/"
        },
        "id": "saExNTM0lr7p",
        "outputId": "a38b68a8-c5bb-4c1a-e865-cba2757e1bfa"
      },
      "execution_count": 11,
      "outputs": [
        {
          "output_type": "stream",
          "name": "stdout",
          "text": [
            "Summary statistics for earthquakes in Nevada:\n",
            "count    681.000000\n",
            "mean       0.500073\n",
            "std        0.696710\n",
            "min       -0.500000\n",
            "25%       -0.100000\n",
            "50%        0.400000\n",
            "75%        0.900000\n",
            "max        2.900000\n",
            "Name: mag, dtype: float64\n"
          ]
        }
      ]
    },
    {
      "cell_type": "code",
      "source": [
        "#Add a column\n",
        "ring_of_fire_locations = [\n",
        "    'Bolivia', 'Chile', 'Ecuador', 'Peru', 'Costa Rica', 'Guatemala',\n",
        "    'Japan', 'Philippines', 'Indonesia', 'New Zealand', 'Antarctic',\n",
        "    'Canada', 'Fiji', 'Alaska', 'Washington', 'California', 'Russia',\n",
        "    'Taiwan', 'Tonga', 'Kermadec'\n",
        "]\n",
        "\n",
        "def is_on_ring_of_fire(place):\n",
        "    if isinstance(place, str):\n",
        "        if 'Mexico' in place and 'New' not in place:\n",
        "            return True\n",
        "        if 'Antarctic' in place:\n",
        "            return True\n",
        "        for location in ring_of_fire_locations:\n",
        "            if location in place:\n",
        "                return True\n",
        "    return False\n",
        "\n",
        "# Apply the function to create the new column\n",
        "my_data['ring_of_fire'] = my_data['place'].apply(is_on_ring_of_fire)"
      ],
      "metadata": {
        "id": "cfHGT1CmmN5y"
      },
      "execution_count": 14,
      "outputs": []
    },
    {
      "cell_type": "code",
      "source": [
        "#the number of earthquakes in the Ring of Fire locations and the number outside of them\n",
        "ring_of_fire_counts = my_data['ring_of_fire'].value_counts()\n",
        "print(\"\\ne. Number of earthquakes in and out of the Ring of Fire:\")\n",
        "print(ring_of_fire_counts)"
      ],
      "metadata": {
        "colab": {
          "base_uri": "https://localhost:8080/"
        },
        "id": "fiqo5RJZoR5p",
        "outputId": "bde0463a-d46a-4933-dea7-a9da485690ea"
      },
      "execution_count": 17,
      "outputs": [
        {
          "output_type": "stream",
          "name": "stdout",
          "text": [
            "\n",
            "e. Number of earthquakes in and out of the Ring of Fire:\n",
            "ring_of_fire\n",
            "False    4906\n",
            "True     4426\n",
            "Name: count, dtype: int64\n"
          ]
        }
      ]
    },
    {
      "cell_type": "code",
      "source": [
        "#Find the tsunami count along the Ring of Fire\n",
        "ring_of_fire_df = my_data[my_data['ring_of_fire']]\n",
        "tsunami_on_ring_of_fire = ring_of_fire_df['tsunami'].sum()\n",
        "print(f\"\\nf. Tsunami count along the Ring of Fire: {tsunami_on_ring_of_fire}\")"
      ],
      "metadata": {
        "colab": {
          "base_uri": "https://localhost:8080/"
        },
        "id": "6ikehFBYpOG2",
        "outputId": "bfec25a1-12d7-460e-9a23-3d54ab1736a0"
      },
      "execution_count": 19,
      "outputs": [
        {
          "output_type": "stream",
          "name": "stdout",
          "text": [
            "\n",
            "f. Tsunami count along the Ring of Fire: 43\n"
          ]
        }
      ]
    }
  ]
}
